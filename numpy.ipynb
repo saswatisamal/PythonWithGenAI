{
  "nbformat": 4,
  "nbformat_minor": 0,
  "metadata": {
    "colab": {
      "provenance": [],
      "authorship_tag": "ABX9TyM38zCxgVvWYKbzU+ilvpdQ",
      "include_colab_link": true
    },
    "kernelspec": {
      "name": "python3",
      "display_name": "Python 3"
    },
    "language_info": {
      "name": "python"
    }
  },
  "cells": [
    {
      "cell_type": "markdown",
      "metadata": {
        "id": "view-in-github",
        "colab_type": "text"
      },
      "source": [
        "<a href=\"https://colab.research.google.com/github/saswatisamal/PythonWithGenAI/blob/main/numpy.ipynb\" target=\"_parent\"><img src=\"https://colab.research.google.com/assets/colab-badge.svg\" alt=\"Open In Colab\"/></a>"
      ]
    },
    {
      "cell_type": "code",
      "execution_count": 18,
      "metadata": {
        "id": "kR0dzZqglNKx",
        "colab": {
          "base_uri": "https://localhost:8080/"
        },
        "outputId": "d77430d4-b9b8-40aa-df02-10080c06075c"
      },
      "outputs": [
        {
          "output_type": "stream",
          "name": "stdout",
          "text": [
            "2.0.2\n",
            "Values in array arr:\n",
            "[1 2 3 4]\n",
            "Values in array a1:\n",
            "[0 0 0 0]\n",
            "Values in array b1:\n",
            "[1 1 1 1 1]\n",
            "Values in array c1:\n",
            "[ 1  6 11 16 21]\n",
            "Values in array d1:\n",
            "[ 1.    6.75 12.5  18.25 24.  ]\n",
            "Values in array e1:\n",
            "[4607182418800017408 4619285842798575616 4623226492472524800\n",
            " 4625830136007098368 4627448617123184640]\n"
          ]
        }
      ],
      "source": [
        "# Import numpy as np and see the version\n",
        "import numpy as np\n",
        "print(np.__version__)\n",
        "\n",
        "#Create a 1D array\n",
        "arr=np.array([1,2,3,4])\n",
        "print(\"Values in array arr:\")\n",
        "print(arr)\n",
        "\n",
        "#Create 1D array of size 4 initialized with 0\n",
        "a1=np.zeros(4,dtype=np.int64)\n",
        "print(\"Values in array a1:\")\n",
        "print(a1)\n",
        "\n",
        "#Create 1D array of size 4 initialized with 1\n",
        "b1=np.ones(5,dtype=np.int64)\n",
        "print(\"Values in array b1:\")\n",
        "print(b1)\n",
        "\n",
        "#Create 1D array using start element=1, end=23(as 24 is exclusive) and stepSize=5\n",
        "c1=np.arange(1,24,5)\n",
        "print(\"Values in array c1:\")\n",
        "print(c1)\n",
        "\n",
        "#Create 1D array of 5 elements equally spaced using start element=1, end=23(as 24 is exclusive)\n",
        "\n",
        "d1=np.linspace(1,24,num=5)\n",
        "print(\"Values in array d1:\")\n",
        "print(d1)\n",
        "\n",
        "#Create 1D array of 5 elements where value at each position is the memory state value)\n",
        "e1=np.empty(5,dtype=np.int64)\n",
        "print(\"Values in array e1:\")\n",
        "print(e1)\n",
        "\n",
        "\n",
        "\n",
        "\n"
      ]
    },
    {
      "cell_type": "markdown",
      "source": [
        "# New Section"
      ],
      "metadata": {
        "id": "GbqmB7sr11sF"
      }
    },
    {
      "cell_type": "code",
      "source": [],
      "metadata": {
        "id": "vPJt4J6cmlcv"
      },
      "execution_count": null,
      "outputs": []
    }
  ]
}