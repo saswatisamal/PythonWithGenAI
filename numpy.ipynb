{
  "nbformat": 4,
  "nbformat_minor": 0,
  "metadata": {
    "colab": {
      "provenance": [],
      "authorship_tag": "ABX9TyNz+oM9GMawURpAAehcszt+",
      "include_colab_link": true
    },
    "kernelspec": {
      "name": "python3",
      "display_name": "Python 3"
    },
    "language_info": {
      "name": "python"
    }
  },
  "cells": [
    {
      "cell_type": "markdown",
      "metadata": {
        "id": "view-in-github",
        "colab_type": "text"
      },
      "source": [
        "<a href=\"https://colab.research.google.com/github/saswatisamal/PythonWithGenAI/blob/main/numpy.ipynb\" target=\"_parent\"><img src=\"https://colab.research.google.com/assets/colab-badge.svg\" alt=\"Open In Colab\"/></a>"
      ]
    },
    {
      "cell_type": "code",
      "execution_count": 16,
      "metadata": {
        "id": "kR0dzZqglNKx",
        "colab": {
          "base_uri": "https://localhost:8080/",
          "height": 412
        },
        "outputId": "4a622805-0c83-4f90-fc4f-7297a7943efc"
      },
      "outputs": [
        {
          "output_type": "stream",
          "name": "stdout",
          "text": [
            "2.0.2\n",
            "Values in array arr:\n",
            "[1 2 3 4]\n",
            "Values in array a1:\n",
            "[0 0 0 0]\n",
            "Values in array b1:\n",
            "[1 1 1 1 1]\n",
            "Values in array c1:\n",
            "[ 1  6 11 16 21]\n",
            "Values in array d1:\n",
            "[ 1.    6.75 12.5  18.25 24.  ]\n"
          ]
        },
        {
          "output_type": "error",
          "ename": "UFuncTypeError",
          "evalue": "ufunc 'add' did not contain a loop with signature matching types (dtype('<U4'), dtype('float64')) -> None",
          "traceback": [
            "\u001b[0;31m---------------------------------------------------------------------------\u001b[0m",
            "\u001b[0;31mUFuncTypeError\u001b[0m                            Traceback (most recent call last)",
            "\u001b[0;32m/tmp/ipython-input-16-2860133787.py\u001b[0m in \u001b[0;36m<cell line: 0>\u001b[0;34m()\u001b[0m\n\u001b[1;32m     31\u001b[0m \u001b[0;34m\u001b[0m\u001b[0m\n\u001b[1;32m     32\u001b[0m \u001b[0me1\u001b[0m\u001b[0;34m=\u001b[0m\u001b[0mnp\u001b[0m\u001b[0;34m.\u001b[0m\u001b[0mempty\u001b[0m\u001b[0;34m(\u001b[0m\u001b[0;36m5\u001b[0m\u001b[0;34m)\u001b[0m\u001b[0;34m\u001b[0m\u001b[0;34m\u001b[0m\u001b[0m\n\u001b[0;32m---> 33\u001b[0;31m \u001b[0mprint\u001b[0m\u001b[0;34m(\u001b[0m\u001b[0;34m\"e1: \"\u001b[0m\u001b[0;34m+\u001b[0m\u001b[0me1\u001b[0m\u001b[0;34m)\u001b[0m\u001b[0;34m\u001b[0m\u001b[0;34m\u001b[0m\u001b[0m\n\u001b[0m\u001b[1;32m     34\u001b[0m \u001b[0;34m\u001b[0m\u001b[0m\n\u001b[1;32m     35\u001b[0m \u001b[0;34m\u001b[0m\u001b[0m\n",
            "\u001b[0;31mUFuncTypeError\u001b[0m: ufunc 'add' did not contain a loop with signature matching types (dtype('<U4'), dtype('float64')) -> None"
          ]
        }
      ],
      "source": [
        "# Import numpy as np and see the version\n",
        "import numpy as np\n",
        "print(np.__version__)\n",
        "\n",
        "#Create a 1D array\n",
        "arr=np.array([1,2,3,4])\n",
        "print(\"Values in array arr:\")\n",
        "print(arr)\n",
        "\n",
        "#Create 1D array of size 4 initialized with 0\n",
        "a1=np.zeros(4,dtype=np.int64)\n",
        "print(\"Values in array a1:\")\n",
        "print(a1)\n",
        "\n",
        "#Create 1D array of size 4 initialized with 1\n",
        "b1=np.ones(5,dtype=np.int64)\n",
        "print(\"Values in array b1:\")\n",
        "print(b1)\n",
        "\n",
        "#Create 1D array using start element=1, end=23(as 24 is exclusive) and stepSize=5\n",
        "c1=np.arange(1,24,5)\n",
        "print(\"Values in array c1:\")\n",
        "print(c1)\n",
        "\n",
        "#Create 1D array using start element=1, end=23(as 24 is exclusive) and stepSize=5\n",
        "\n",
        "d1=np.linspace(1,24,num=5)\n",
        "print(\"Values in array d1:\")\n",
        "print(d1)\n",
        "\n",
        "\n",
        "e1=np.empty(5)\n",
        "print(\"e1: \"+e1)\n",
        "\n",
        "\n",
        "\n",
        "\n"
      ]
    },
    {
      "cell_type": "markdown",
      "source": [
        "# New Section"
      ],
      "metadata": {
        "id": "GbqmB7sr11sF"
      }
    },
    {
      "cell_type": "code",
      "source": [],
      "metadata": {
        "id": "vPJt4J6cmlcv"
      },
      "execution_count": null,
      "outputs": []
    }
  ]
}