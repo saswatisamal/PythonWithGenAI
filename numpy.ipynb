{
  "nbformat": 4,
  "nbformat_minor": 0,
  "metadata": {
    "colab": {
      "provenance": [],
      "authorship_tag": "ABX9TyMgzzSL4f7b3/9LDC5InJ2W",
      "include_colab_link": true
    },
    "kernelspec": {
      "name": "python3",
      "display_name": "Python 3"
    },
    "language_info": {
      "name": "python"
    }
  },
  "cells": [
    {
      "cell_type": "markdown",
      "metadata": {
        "id": "view-in-github",
        "colab_type": "text"
      },
      "source": [
        "<a href=\"https://colab.research.google.com/github/saswatisamal/PythonWithGenAI/blob/main/numpy.ipynb\" target=\"_parent\"><img src=\"https://colab.research.google.com/assets/colab-badge.svg\" alt=\"Open In Colab\"/></a>"
      ]
    },
    {
      "cell_type": "code",
      "execution_count": 57,
      "metadata": {
        "id": "kR0dzZqglNKx",
        "colab": {
          "base_uri": "https://localhost:8080/"
        },
        "outputId": "23a43176-cdea-4c2e-e674-3a372e2d5d7d"
      },
      "outputs": [
        {
          "output_type": "stream",
          "name": "stdout",
          "text": [
            "2.0.2\n",
            "Values in array arr:\n",
            "[1 2 3 4]\n",
            "Values in array a1:\n",
            "[0 0 0 0]\n",
            "Values in array b1:\n",
            "[1 1 1 1 1]\n",
            "Values in array c1:\n",
            "[ 1  6 11 16 21]\n",
            "Values in array d1:\n",
            "[ 1.    6.75 12.5  18.25 24.  ]\n",
            "Values in array e1:\n",
            "[4607182418800017408 4619285842798575616 4623226492472524800\n",
            " 4625830136007098368 4627448617123184640]\n",
            "[[ True  True  True]\n",
            " [ True  True  True]\n",
            " [ True  True  True]]\n",
            "[[ True  True  True]\n",
            " [ True  True  True]\n",
            " [ True  True  True]]\n",
            "[ 1  2  7  8 10 15 21]\n",
            "[ 1  7 15 21]\n",
            "[-1  2 -1  8 10 -1 -1]\n",
            "Deep copy of original array:\n",
            "[-1  2 -1  8 10 -1 -1]\n",
            "original array:\n",
            "[ 1  2  7  8 10 15 21]\n",
            "Original array:\n",
            "[25  1  2  3  4  5  6  7  8  9]\n",
            "Reshaped array:\n",
            "[[25  1  2  3  4]\n",
            " [ 5  6  7  8  9]]\n",
            "[[0 1 2 3 4]\n",
            " [5 6 7 8 9]\n",
            " [1 1 1 1 1]\n",
            " [1 1 1 1 1]]\n",
            "[[0 1 2 3 4 1 1 1 1 1]\n",
            " [5 6 7 8 9 1 1 1 1 1]]\n",
            "2\n",
            "(2, 10)\n",
            "[1 1 1 2 2 2 3 3 3]\n",
            "[1 2 3 1 2 3 1 2 3]\n",
            "[1 1 1 2 2 2 3 3 3 1 2 3 1 2 3 1 2 3]\n",
            "[1 1 1 2 2 2 3 3 3 1 2 3 1 2 3 1 2 3]\n",
            "[2 4]\n",
            "[1 2 3 4]\n",
            "(array([1, 3, 5, 7]),)\n",
            "[ 6  9 10]\n",
            "(array([1, 2, 6]),)\n"
          ]
        }
      ],
      "source": [
        "# Import numpy as np and see the version\n",
        "import numpy as np\n",
        "print(np.__version__)\n",
        "\n",
        "#Create a 1D array\n",
        "arr=np.array([1,2,3,4])\n",
        "print(\"Values in array arr:\")\n",
        "print(arr)\n",
        "\n",
        "#Create 1D array of size 4 initialized with 0\n",
        "a1=np.zeros(4,dtype=np.int64)\n",
        "print(\"Values in array a1:\")\n",
        "print(a1)\n",
        "\n",
        "#Create 1D array of size 4 initialized with 1\n",
        "b1=np.ones(5,dtype=np.int64)\n",
        "print(\"Values in array b1:\")\n",
        "print(b1)\n",
        "\n",
        "#Create 1D array using start element=1, end=23(as 24 is exclusive) and stepSize=5\n",
        "c1=np.arange(1,24,5)\n",
        "print(\"Values in array c1:\")\n",
        "print(c1)\n",
        "\n",
        "#Create 1D array of 5 elements equally spaced using start element=1, end=23(as 24 is exclusive)\n",
        "\n",
        "d1=np.linspace(1,24,num=5)\n",
        "print(\"Values in array d1:\")\n",
        "print(d1)\n",
        "\n",
        "#Create 1D array of 5 elements where value at each position is the memory state value)\n",
        "e1=np.empty(5,dtype=np.int64)\n",
        "print(\"Values in array e1:\")\n",
        "print(e1)\n",
        "\n",
        "#Create a 3×3 numpy array of all True’s\n",
        "trueArr=np.full((3,3),True,dtype=bool)\n",
        "print(trueArr)\n",
        "reshapedTrueArr=np.full(9,True,dtype=bool).reshape(3,3)\n",
        "print(reshapedTrueArr)\n",
        "\n",
        "# Extract items that satisfy a given condition from 1D array:\n",
        "#Extract all odd numbers from array\n",
        "arr=np.array([1,2,7,8,10,15,21])\n",
        "print(arr)\n",
        "print(arr[arr%2!=0])\n",
        "\n",
        "\n",
        "#Replace all odd numbers in arr with -1 affecting the original array\n",
        "arr=np.array([1,2,7,8,10,15,21])\n",
        "arr[arr%2!=0]=-1\n",
        "print (arr)\n",
        "\n",
        "#Replace all odd numbers in arr with -1 without affecting the original array\n",
        "arr=np.array([1,2,7,8,10,15,21])\n",
        "deepCopyOfArr=np.copy(arr)\n",
        "deepCopyOfArr[deepCopyOfArr%2!=0]=-1\n",
        "print(\"Deep copy of original array:\")\n",
        "print (deepCopyOfArr)\n",
        "print(\"original array:\")\n",
        "print(arr)\n",
        "\n",
        "#Convert a 1D array to a 2D array with 2 rows and 5 columns\n",
        "#In reshaping as well a shallow copy is made as both are referring to same location in memory\n",
        "arr=np.arange(10)\n",
        "b=np.reshape(arr,(2,5))\n",
        "b[0][0]=25\n",
        "print(\"Original array:\")\n",
        "print(arr)\n",
        "print(\"Reshaped array:\")\n",
        "print(b)\n",
        "\n",
        "\n",
        "#Stack 2 arrays vertically ,along axis=0\n",
        "a=np.arange(10).reshape(2,5)\n",
        "b=np.repeat(1,10).reshape(2,5) # repeats 1 ten times\n",
        "c=np.vstack((a,b))\n",
        "print(c)\n",
        "\n",
        "#Stack the arrays a and b horizontally,along axis=1\n",
        "a=np.arange(10).reshape(2,5)\n",
        "b=np.repeat(1,10).reshape(2,5) # repeats 1 ten times\n",
        "c=np.hstack((a,b))\n",
        "print(c)\n",
        "print(c.ndim)\n",
        "print(c.shape) #(2,10)\n",
        "\n",
        "\n",
        "# Question: Create the following pattern without hardcoding. Use only numpy functions and the below input array a.\n",
        "\n",
        "# Input: a = np.array([1,2,3])\n",
        "# Output: array([1, 1, 1, 2, 2, 2, 3, 3, 3, 1, 2, 3, 1, 2, 3, 1, 2, 3])\n",
        "\n",
        "# This can be achieved by using repeat and tile\n",
        "#repeat repeats each element that no of times, tile repeat arr that no of times\n",
        "arr=np.array([1,2,3])\n",
        "a1=np.repeat(arr,3)\n",
        "print(a1)\n",
        "a2=np.tile(arr,3)\n",
        "print(a2)\n",
        "result=np.concatenate((a1,a2)) # using concatenate function\n",
        "result1=np.hstack((a1,a2)) # using horizontal stack\n",
        "print(result)\n",
        "print(result1)\n",
        "\n",
        "# Question: Get the common items between a and b\n",
        "\n",
        "# Input: a = np.array([1,2,3,2,3,4,3,4,5,6])\n",
        "#  b = np.array([7,2,10,2,7,4,9,4,9,8])\n",
        "# Output: array([2, 4])\n",
        "a=np.array([1,2,3,2,3,4,3,4,5,6])\n",
        "b=np.array([7,2,10,2,7,4,9,4,9,8])\n",
        "c=np.intersect1d(a,b) # can use intersect function to find common elements between both\n",
        "print(c)\n",
        "\n",
        "# Question: From array a remove all items present in array b\n",
        "\n",
        "# Input: a = np.array([1,2,3,4,5])\n",
        "#        b = np.array([5,6,7,8,9])\n",
        "\n",
        "# Output: array([1,2,3,4])\n",
        "a=np.array([1,2,3,4,5])\n",
        "b=np.array([5,6,7,8,9])\n",
        "c=np.setdiff1d(a,b)\n",
        "print(c)\n",
        "\n",
        "\n",
        "# Question: Get the positions where elements of a and b match\n",
        "\n",
        "# Input: a = np.array([1,2,3,2,3,4,3,4,5,6])\n",
        "#        b = np.array([7,2,10,2,7,4,9,4,9,8])\n",
        "\n",
        "# Output: (array([1, 3, 5, 7]),)\n",
        "a = np.array([1,2,3,2,3,4,3,4,5,6])\n",
        "b = np.array([7,2,10,2,7,4,9,4,9,8])\n",
        "print(np.where(a==b)) # It returns the indices where a==b across both the arrays\n",
        "\n",
        "\n",
        "\n",
        "# Question: Get all items between 5 and 10 from a.\n",
        "# Input: a = np.array([2, 6, 1, 9, 10, 3, 27])\n",
        "# Output: (array([6, 9, 10]),)\n",
        "a = np.array([2, 6, 1, 9, 10, 3, 27])\n",
        "print(a[(a>=5) & (a<=10)])\n",
        "\n",
        "\n",
        "\n",
        "\n",
        "\n",
        "\n",
        "\n",
        "\n"
      ]
    },
    {
      "cell_type": "markdown",
      "source": [
        "# New Section"
      ],
      "metadata": {
        "id": "GbqmB7sr11sF"
      }
    },
    {
      "cell_type": "code",
      "source": [
        "import numpy as np\n",
        "#Return max elements at position for array a and b\n",
        "a = np.array([5, 7, 9, 8, 6, 4, 5])\n",
        "b = np.array([6, 3, 4, 8, 9, 7, 1])\n",
        "print(np.where(a>b,a,b)) # returns max of element wise in both the array\n",
        "\n",
        "#Method 2\n",
        "def maxx(x,y):\n",
        "    if(x>y):\n",
        "        return x\n",
        "    else:\n",
        "        return y\n",
        "maximum=[maxx(x,y) for x,y in map(lambda x,y:(x,y),a,b)]\n",
        "print(np.array(maximum))"
      ],
      "metadata": {
        "id": "vPJt4J6cmlcv",
        "colab": {
          "base_uri": "https://localhost:8080/"
        },
        "outputId": "f0cb1180-115c-4a30-b0b6-80c872d7c4d7"
      },
      "execution_count": 7,
      "outputs": [
        {
          "output_type": "stream",
          "name": "stdout",
          "text": [
            "[6 7 9 8 9 7 5]\n",
            "[6 7 9 8 9 7 5]\n"
          ]
        }
      ]
    },
    {
      "cell_type": "code",
      "source": [
        "#How to swap two columns in a 2d numpy array ex: swap 0th and 1st col\n",
        "\n",
        "a=np.arange(9)\n",
        "print(a)\n",
        "b=np.reshape(a,(3,3))\n",
        "print(b)\n",
        "#Reorder columns\n",
        "#c=b[:,[1,0,2]]\n",
        "#print(c)\n",
        "\n",
        "#Reorder rows\n",
        "d=b[[2,1,0],:]\n",
        "print (d)\n"
      ],
      "metadata": {
        "id": "___By4NXcZ9v",
        "outputId": "eff314ca-16f4-4312-a448-5f9b46ad8f5e",
        "colab": {
          "base_uri": "https://localhost:8080/"
        }
      },
      "execution_count": 17,
      "outputs": [
        {
          "output_type": "stream",
          "name": "stdout",
          "text": [
            "[0 1 2 3 4 5 6 7 8]\n",
            "[[0 1 2]\n",
            " [3 4 5]\n",
            " [6 7 8]]\n",
            "[[6 7 8]\n",
            " [3 4 5]\n",
            " [0 1 2]]\n"
          ]
        }
      ]
    },
    {
      "cell_type": "code",
      "source": [
        "\n",
        " #How to reverse the rows of a 2D array\n",
        "import numpy as np\n",
        "a=np.arange(9)\n",
        "print(a)\n",
        "b=np.reshape(a,(3,3))\n",
        "#Slicing syntax is [start:stop:step]\n",
        "#If step is not mentioned it takes=1\n",
        "c=b[::-1,:]\n",
        "print(c)\n",
        "\n",
        "\n"
      ],
      "metadata": {
        "id": "CODKC3payJRb",
        "outputId": "51223e33-f1ee-4b88-bd8c-46c038aa193f",
        "colab": {
          "base_uri": "https://localhost:8080/"
        }
      },
      "execution_count": 21,
      "outputs": [
        {
          "output_type": "stream",
          "name": "stdout",
          "text": [
            "[0 1 2 3 4 5 6 7 8]\n",
            "[[6 7 8]\n",
            " [3 4 5]\n",
            " [0 1 2]]\n"
          ]
        }
      ]
    },
    {
      "cell_type": "code",
      "source": [
        "# How to reverse the columns of a 2D array\n",
        "a=np.arange(9)\n",
        "print(a)\n",
        "b=np.reshape(a,(3,3))\n",
        "print(b)\n",
        "#Reverse columns in a 2D array :\n",
        "c=b[:,::-1]\n",
        "print(c)"
      ],
      "metadata": {
        "id": "TTE-NKoy9Q9T",
        "outputId": "faa6c3a3-3dba-4d34-e2b4-f6642b58d3c4",
        "colab": {
          "base_uri": "https://localhost:8080/"
        }
      },
      "execution_count": 22,
      "outputs": [
        {
          "output_type": "stream",
          "name": "stdout",
          "text": [
            "[0 1 2 3 4 5 6 7 8]\n",
            "[[0 1 2]\n",
            " [3 4 5]\n",
            " [6 7 8]]\n",
            "[[2 1 0]\n",
            " [5 4 3]\n",
            " [8 7 6]]\n"
          ]
        }
      ]
    },
    {
      "cell_type": "code",
      "source": [],
      "metadata": {
        "id": "sHTpBNI999rO"
      },
      "execution_count": null,
      "outputs": []
    }
  ]
}