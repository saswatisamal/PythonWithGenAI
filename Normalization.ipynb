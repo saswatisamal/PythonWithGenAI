{
  "nbformat": 4,
  "nbformat_minor": 0,
  "metadata": {
    "colab": {
      "provenance": [],
      "authorship_tag": "ABX9TyO9ufLNVEq4MsnzkSwUl7dp",
      "include_colab_link": true
    },
    "kernelspec": {
      "name": "python3",
      "display_name": "Python 3"
    },
    "language_info": {
      "name": "python"
    }
  },
  "cells": [
    {
      "cell_type": "markdown",
      "metadata": {
        "id": "view-in-github",
        "colab_type": "text"
      },
      "source": [
        "<a href=\"https://colab.research.google.com/github/saswatisamal/PythonWithGenAI/blob/main/Normalization.ipynb\" target=\"_parent\"><img src=\"https://colab.research.google.com/assets/colab-badge.svg\" alt=\"Open In Colab\"/></a>"
      ]
    },
    {
      "cell_type": "code",
      "execution_count": 1,
      "metadata": {
        "colab": {
          "base_uri": "https://localhost:8080/"
        },
        "id": "qb3zRXUhx2u5",
        "outputId": "fc350f28-6057-4e8a-8a7e-b47262a56fa6"
      },
      "outputs": [
        {
          "output_type": "stream",
          "name": "stdout",
          "text": [
            "[0.         0.01010101 0.02020202 0.03030303 0.04040404 1.        ]\n",
            "[-0.50221883 -0.47457376 -0.44692869 -0.41928361 -0.39163854  2.23464343]\n"
          ]
        }
      ],
      "source": [
        "#Min-max standardization\n",
        "import numpy as np\n",
        "data=np.array([10, 20, 30, 40, 50, 1000])\n",
        "\n",
        "def min_max_scaling(data):\n",
        "    min_val=np.min(data)\n",
        "    max_val=np.max(data)\n",
        "    scaled_data=(data-min_val)/(max_val-min_val)\n",
        "    return scaled_data\n",
        "\n",
        "def z_score_standardization(data):\n",
        "    mean=np.mean(data)\n",
        "    std=np.std(data)\n",
        "    scaled_data=(data-mean)/(std)\n",
        "    return scaled_data\n",
        "\n",
        "#min-scale data\n",
        "print(min_max_scaling(data))\n",
        "\n",
        "#z-score-standard\n",
        "print(z_score_standardization(data))\n",
        "\n",
        "\n"
      ]
    }
  ]
}