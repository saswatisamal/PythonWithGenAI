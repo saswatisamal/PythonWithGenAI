{
  "nbformat": 4,
  "nbformat_minor": 0,
  "metadata": {
    "colab": {
      "provenance": [],
      "authorship_tag": "ABX9TyOTZfYvLWbGROIS6VYJLAt4",
      "include_colab_link": true
    },
    "kernelspec": {
      "name": "python3",
      "display_name": "Python 3"
    },
    "language_info": {
      "name": "python"
    }
  },
  "cells": [
    {
      "cell_type": "markdown",
      "metadata": {
        "id": "view-in-github",
        "colab_type": "text"
      },
      "source": [
        "<a href=\"https://colab.research.google.com/github/saswatisamal/PythonWithGenAI/blob/main/Normalization.ipynb\" target=\"_parent\"><img src=\"https://colab.research.google.com/assets/colab-badge.svg\" alt=\"Open In Colab\"/></a>"
      ]
    },
    {
      "cell_type": "code",
      "execution_count": 2,
      "metadata": {
        "colab": {
          "base_uri": "https://localhost:8080/",
          "height": 71
        },
        "id": "VGSEtorTays9",
        "outputId": "9c90e9a1-71c5-4f99-f3e9-98bdeefcfb5c"
      },
      "outputs": [
        {
          "output_type": "execute_result",
          "data": {
            "text/plain": [
              "'This is important because raw features can be on very different scales, e.g.:\\n\\nAge in years: [20, 30, 40]\\n\\nSalary in dollars: [20,000, 50,000, 100,000]\\n\\nWithout normalization:\\n\\nAlgorithms that depend on distances or gradients might assume larger-scale features are more important — which may not be true.'"
            ],
            "application/vnd.google.colaboratory.intrinsic+json": {
              "type": "string"
            }
          },
          "metadata": {},
          "execution_count": 2
        }
      ],
      "source": [
        "#There are 2 types of normalization\n",
        "#Min-Max scaling and Z-score standardization\n",
        "#Why we require normalization?\n",
        "'''This is important because raw features can be on very different scales, e.g.:\n",
        "\n",
        "Age in years: [20, 30, 40]\n",
        "\n",
        "Salary in dollars: [20,000, 50,000, 100,000]\n",
        "\n",
        "Without normalization:\n",
        "\n",
        "Algorithms that depend on distances or gradients might assume larger-scale features are more important — which may not be true.'''\n",
        "\n",
        "\n"
      ]
    },
    {
      "cell_type": "code",
      "source": [
        "#min_max scaling\n",
        "import numpy as np;\n",
        "#Sample data\n",
        "\n",
        "data = np.array([10, 20, 30, 40, 50, 1000])  # 1000 is an outlier\n",
        "def min_max_scale(data):\n",
        " min_val=np.min(data)\n",
        " max_val=np.max(data)\n",
        " min_max_scale=(data-min_val)/(max_val-min_val)\n",
        " return min_max_scale\n",
        "\n",
        "print(min_max_scale(data))\n",
        "\n",
        "\n",
        "\n",
        "\n"
      ],
      "metadata": {
        "colab": {
          "base_uri": "https://localhost:8080/"
        },
        "id": "VXApCmc_dmC9",
        "outputId": "88036a5b-af93-47aa-a07f-1c8d758842a5"
      },
      "execution_count": 4,
      "outputs": [
        {
          "output_type": "stream",
          "name": "stdout",
          "text": [
            "[0.         0.01010101 0.02020202 0.03030303 0.04040404 1.        ]\n"
          ]
        }
      ]
    },
    {
      "cell_type": "code",
      "source": [
        "#z-score standardization\n",
        "data = np.array([10, 20, 30, 40, 50, 1000])  # 1000 is an outlier\n",
        "def z_score_standardization(data):\n",
        "  mean=np.mean(data)\n",
        "  std=np.std(data)\n",
        "  z_score=(data-mean)/std\n",
        "  return z_score\n",
        "z_score=z_score_standardization(data)\n",
        "print(z_score)\n"
      ],
      "metadata": {
        "colab": {
          "base_uri": "https://localhost:8080/"
        },
        "id": "U5VMS6hyeVqp",
        "outputId": "9dde8662-6cc9-4c0d-e2f6-3c6ba2895940"
      },
      "execution_count": 8,
      "outputs": [
        {
          "output_type": "stream",
          "name": "stdout",
          "text": [
            "[-0.50221883 -0.47457376 -0.44692869 -0.41928361 -0.39163854  2.23464343]\n"
          ]
        }
      ]
    }
  ]
}