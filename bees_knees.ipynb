{
  "nbformat": 4,
  "nbformat_minor": 0,
  "metadata": {
    "colab": {
      "provenance": [],
      "include_colab_link": true
    },
    "kernelspec": {
      "name": "python3",
      "display_name": "Python 3"
    },
    "language_info": {
      "name": "python"
    }
  },
  "cells": [
    {
      "cell_type": "markdown",
      "metadata": {
        "id": "view-in-github",
        "colab_type": "text"
      },
      "source": [
        "<a href=\"https://colab.research.google.com/github/saswatisamal/PythonWithGenAI/blob/main/bees_knees.ipynb\" target=\"_parent\"><img src=\"https://colab.research.google.com/assets/colab-badge.svg\" alt=\"Open In Colab\"/></a>"
      ]
    },
    {
      "cell_type": "markdown",
      "source": [
        "[![PracticeProbs](https://d33wubrfki0l68.cloudfront.net/b6800cc830e3fd5a3a4c3d9cfb1137e6a4c15c77/ec467/assets/images/transparent-1.png)](https://www.practiceprobs.com/)"
      ],
      "metadata": {
        "id": "t1VEtnSjbu-d"
      }
    },
    {
      "cell_type": "markdown",
      "source": [
        "# [Bees Knees](https://www.practiceprobs.com/problemsets/python-pandas/series/bees-knees/)\n",
        "\n",
        "Given, two Series `bees` and `knees`, if the ith value of `bees` is NaN, double the ith value inside `knees`."
      ],
      "metadata": {
        "id": "M6yShpelZy-I"
      }
    },
    {
      "cell_type": "code",
      "source": [
        "import numpy as np\n",
        "import pandas as pd\n",
        "\n",
        "bees = pd.Series([True, True, False, np.nan, True, False, True, np.nan])\n",
        "knees = pd.Series([5,2,9,1,3,10,5,2], index = [7,0,2,6,3,5,1,4])\n",
        "\n",
        "knees.loc[pd.isna(bees).to_numpy()] *= 2\n",
        "print(bees)\n",
        "# 0     True\n",
        "# 1     True\n",
        "# 2    False\n",
        "# 3      NaN\n",
        "# 4     True\n",
        "# 5    False\n",
        "# 6     True\n",
        "# 7      NaN\n",
        "# dtype: object\n",
        "\n",
        "print(knees)\n",
        "# 7     5\n",
        "# 0     2\n",
        "# 2     9\n",
        "# 6     1\n",
        "# 3     3\n",
        "# 5    10\n",
        "# 1     5\n",
        "# 4     2\n",
        "# dtype: int64"
      ],
      "metadata": {
        "id": "ZlHN2R3QaPX3",
        "outputId": "60e52063-c68f-4567-b82e-87f2bb117911",
        "colab": {
          "base_uri": "https://localhost:8080/"
        }
      },
      "execution_count": 19,
      "outputs": [
        {
          "output_type": "stream",
          "name": "stdout",
          "text": [
            "0     True\n",
            "1     True\n",
            "2    False\n",
            "3      NaN\n",
            "4     True\n",
            "5    False\n",
            "6     True\n",
            "7      NaN\n",
            "dtype: object\n",
            "7     5\n",
            "0     2\n",
            "2     9\n",
            "6     2\n",
            "3     3\n",
            "5    10\n",
            "1     5\n",
            "4     4\n",
            "dtype: int64\n"
          ]
        }
      ]
    },
    {
      "cell_type": "markdown",
      "source": [
        "---"
      ],
      "metadata": {
        "id": "h7D8d-J5cela"
      }
    },
    {
      "cell_type": "code",
      "source": [],
      "metadata": {
        "id": "CWwTWfYCa4k0",
        "outputId": "96ec0c89-73be-46b4-a969-fcaf7aa5aafe",
        "colab": {
          "base_uri": "https://localhost:8080/"
        }
      },
      "execution_count": 17,
      "outputs": [
        {
          "output_type": "stream",
          "name": "stdout",
          "text": [
            "0     True\n",
            "1     True\n",
            "2    False\n",
            "3      NaN\n",
            "4     True\n",
            "5    False\n",
            "6     True\n",
            "7      NaN\n",
            "dtype: object\n",
            "7    20\n",
            "0    16\n",
            "2     9\n",
            "6     8\n",
            "3    12\n",
            "5    10\n",
            "1    40\n",
            "4    16\n",
            "dtype: int64\n"
          ]
        }
      ]
    },
    {
      "cell_type": "code",
      "source": [],
      "metadata": {
        "id": "7lmg_TC6mwie"
      },
      "execution_count": null,
      "outputs": []
    },
    {
      "cell_type": "markdown",
      "source": [
        "## [See our solution!](https://www.practiceprobs.com/problemsets/python-pandas/series/bees-knees/solution/)"
      ],
      "metadata": {
        "id": "bF3kvEc4a4It"
      }
    }
  ]
}