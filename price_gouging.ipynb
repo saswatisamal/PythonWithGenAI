{
  "nbformat": 4,
  "nbformat_minor": 0,
  "metadata": {
    "colab": {
      "provenance": [],
      "include_colab_link": true
    },
    "kernelspec": {
      "name": "python3",
      "display_name": "Python 3"
    },
    "language_info": {
      "name": "python"
    }
  },
  "cells": [
    {
      "cell_type": "markdown",
      "metadata": {
        "id": "view-in-github",
        "colab_type": "text"
      },
      "source": [
        "<a href=\"https://colab.research.google.com/github/saswatisamal/PythonWithGenAI/blob/main/price_gouging.ipynb\" target=\"_parent\"><img src=\"https://colab.research.google.com/assets/colab-badge.svg\" alt=\"Open In Colab\"/></a>"
      ]
    },
    {
      "cell_type": "markdown",
      "source": [
        "[![PracticeProbs](https://d33wubrfki0l68.cloudfront.net/b6800cc830e3fd5a3a4c3d9cfb1137e6a4c15c77/ec467/assets/images/transparent-1.png)](https://www.practiceprobs.com/)"
      ],
      "metadata": {
        "id": "t1VEtnSjbu-d"
      }
    },
    {
      "cell_type": "markdown",
      "source": [
        "# [Price Gouging](https://www.practiceprobs.com/problemsets/python-pandas/series/price-gouging/)\n",
        "\n",
        "You suspect your local grocery’s been price gouging the ground beef. You and some friends decide to track the price of ground beef every day for 10 days. You’ve compiled the data into a Series called `beef_prices`, whose index represents the day of each recording."
      ],
      "metadata": {
        "id": "M6yShpelZy-I"
      }
    },
    {
      "cell_type": "code",
      "source": [
        "import numpy as np\n",
        "import pandas as pd\n",
        "\n",
        "generator = np.random.default_rng(123)\n",
        "beef_prices = pd.Series(\n",
        "    data = np.round(generator.uniform(low=3, high=5, size=10), 2),\n",
        "    index = generator.choice(10, size=10, replace=False)\n",
        ")\n",
        "\n",
        "print(beef_prices)\n",
        "# 4    4.36\n",
        "# 8    3.11\n",
        "# 2    3.44\n",
        "# 0    3.37\n",
        "# 6    3.35\n",
        "# 9    4.62\n",
        "# 3    4.85\n",
        "# 5    3.55\n",
        "# 1    4.64\n",
        "# 7    4.78\n",
        "# dtype: float64"
      ],
      "metadata": {
        "id": "ZlHN2R3QaPX3",
        "outputId": "81d079d8-cd4e-4f37-9be3-ecd9a96062e2",
        "colab": {
          "base_uri": "https://localhost:8080/"
        }
      },
      "execution_count": 1,
      "outputs": [
        {
          "output_type": "stream",
          "name": "stdout",
          "text": [
            "4    4.36\n",
            "8    3.11\n",
            "2    3.44\n",
            "0    3.37\n",
            "6    3.35\n",
            "9    4.62\n",
            "3    4.85\n",
            "5    3.55\n",
            "1    4.64\n",
            "7    4.78\n",
            "dtype: float64\n"
          ]
        }
      ]
    },
    {
      "cell_type": "markdown",
      "source": [
        "For example, beef was priced 3.37 on the first day, 4.64 on the second day, etc.\n",
        "\n",
        "Determine which day had the biggest price increase from the prior day."
      ],
      "metadata": {
        "id": "b6_u7yFwIsLo"
      }
    },
    {
      "cell_type": "markdown",
      "source": [
        "---"
      ],
      "metadata": {
        "id": "h7D8d-J5cela"
      }
    },
    {
      "cell_type": "code",
      "source": [
        "# Sort the Series by index (day)\n",
        "beef_prices_sorted = beef_prices.sort_index()\n",
        "#Get the difference from its prev value . If value not present it returns NAN\n",
        "diff=beef_prices_sorted.diff()\n",
        "print(diff)\n",
        "price_on_day_beef_price_max=diff.idxmax()\n",
        "#day on which price is max\n",
        "print(price_on_day_beef_price_max)\n",
        "increased_beef_price_on_day=diff.max()\n",
        "#Max price\n",
        "print(increased_beef_price_on_day)\n",
        "\n"
      ],
      "metadata": {
        "id": "CWwTWfYCa4k0",
        "outputId": "a70ae810-f715-45aa-b2e1-5f0c4befa967",
        "colab": {
          "base_uri": "https://localhost:8080/"
        }
      },
      "execution_count": 17,
      "outputs": [
        {
          "output_type": "stream",
          "name": "stdout",
          "text": [
            "0     NaN\n",
            "1    1.27\n",
            "2   -1.20\n",
            "3    1.41\n",
            "4   -0.49\n",
            "5   -0.81\n",
            "6   -0.20\n",
            "7    1.43\n",
            "8   -1.67\n",
            "9    1.51\n",
            "dtype: float64\n",
            "9\n",
            "1.5100000000000002\n"
          ]
        }
      ]
    },
    {
      "cell_type": "code",
      "source": [],
      "metadata": {
        "id": "r9_cb34ATEmW"
      },
      "execution_count": null,
      "outputs": []
    },
    {
      "cell_type": "markdown",
      "source": [
        "## [See our solution!](https://www.practiceprobs.com/problemsets/python-pandas/series/price-gouging/solution/)"
      ],
      "metadata": {
        "id": "bF3kvEc4a4It"
      }
    }
  ]
}