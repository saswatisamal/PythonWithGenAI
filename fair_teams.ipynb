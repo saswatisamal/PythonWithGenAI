{
  "nbformat": 4,
  "nbformat_minor": 0,
  "metadata": {
    "colab": {
      "provenance": [],
      "include_colab_link": true
    },
    "kernelspec": {
      "name": "python3",
      "display_name": "Python 3"
    },
    "language_info": {
      "name": "python"
    }
  },
  "cells": [
    {
      "cell_type": "markdown",
      "metadata": {
        "id": "view-in-github",
        "colab_type": "text"
      },
      "source": [
        "<a href=\"https://colab.research.google.com/github/saswatisamal/PythonWithGenAI/blob/main/fair_teams.ipynb\" target=\"_parent\"><img src=\"https://colab.research.google.com/assets/colab-badge.svg\" alt=\"Open In Colab\"/></a>"
      ]
    },
    {
      "cell_type": "markdown",
      "source": [
        "[![PracticeProbs](https://d33wubrfki0l68.cloudfront.net/b6800cc830e3fd5a3a4c3d9cfb1137e6a4c15c77/ec467/assets/images/transparent-1.png)](https://www.practiceprobs.com/)"
      ],
      "metadata": {
        "id": "t1VEtnSjbu-d"
      }
    },
    {
      "cell_type": "markdown",
      "source": [
        "# [Fair Teams](https://www.practiceprobs.com/problemsets/python-pandas/series/fair-teams/)\n",
        "\n",
        "You’re organizing a competitive rock-skipping league. 6 coaches and 20 players have signed up. Your job is to randomly and fairly determine the teams, assigning players to coaches. Keep in mind that some teams will have three players and some teams will have four players. Given a Series of `coaches` and a Series of `players`, create a Series of random coach-to-player mappings. The resulting Series should have coach names in its index and corresponding player names in its values."
      ],
      "metadata": {
        "id": "M6yShpelZy-I"
      }
    },
    {
      "cell_type": "code",
      "source": [],
      "metadata": {
        "id": "eO3Gq2LlGL_g"
      },
      "execution_count": null,
      "outputs": []
    },
    {
      "cell_type": "code",
      "source": [
        "import numpy as np\n",
        "import pandas as pd\n",
        "\n",
        "coaches = pd.Series(['Aaron', 'Donald', 'Joshua', 'Peter', 'Scott', 'Stephen'], dtype='string')\n",
        "players = pd.Series(['Asher', 'Connor', 'Elizabeth', 'Emily', 'Ethan', 'Hannah', 'Isabella', 'Isaiah', 'James',\n",
        "                     'Joshua', 'Julian', 'Layla', 'Leo', 'Madison', 'Mia', 'Oliver', 'Ryan', 'Scarlett', 'William',\n",
        "                     'Wyatt'], dtype='string')\n",
        "\n",
        "print(coaches)\n",
        "# 0      Aaron\n",
        "# 1     Donald\n",
        "# 2     Joshua\n",
        "# 3      Peter\n",
        "# 4      Scott\n",
        "# 5    Stephen\n",
        "# dtype: string\n",
        "\n",
        "print(players)\n",
        "# 0         Asher\n",
        "# 1        Connor\n",
        "# 2     Elizabeth\n",
        "# 3         Emily\n",
        "# 4         Ethan\n",
        "# 5        Hannah\n",
        "# 6      Isabella\n",
        "# 7        Isaiah\n",
        "# 8         James\n",
        "# 9        Joshua\n",
        "# 10       Julian\n",
        "# 11        Layla\n",
        "# 12          Leo\n",
        "# 13      Madison\n",
        "# 14          Mia\n",
        "# 15       Oliver\n",
        "# 16         Ryan\n",
        "# 17     Scarlett\n",
        "# 18      William\n",
        "# 19        Wyatt\n",
        "# dtype: string"
      ],
      "metadata": {
        "id": "ZlHN2R3QaPX3"
      },
      "execution_count": null,
      "outputs": []
    },
    {
      "cell_type": "markdown",
      "source": [
        "---"
      ],
      "metadata": {
        "id": "h7D8d-J5cela"
      }
    },
    {
      "cell_type": "code",
      "source": [
        "# Your brilliant solution here!\n",
        "\n",
        "import pandas as pd\n",
        "import numpy as np\n",
        "\n",
        "coaches = pd.Series(['Aaron', 'Donald', 'Joshua', 'Peter', 'Scott', 'Stephen'], dtype='string')\n",
        "players = pd.Series(['Asher', 'Connor', 'Elizabeth', 'Emily', 'Ethan', 'Hannah', 'Isabella', 'Isaiah', 'James',\n",
        "                     'Joshua', 'Julian', 'Layla', 'Leo', 'Madison', 'Mia', 'Oliver', 'Ryan', 'Scarlett', 'William',\n",
        "                     'Wyatt'], dtype='string')\n",
        "#reset_index just resets the index and create new index\n",
        "shuffled_coaches=coaches.sample(6,random_state=42).reset_index(drop=True)\n",
        "shuffled_players=players.sample(20,random_state=42).reset_index(drop=True)\n",
        "\n",
        "\n",
        "coaches_with_4_players=shuffled_coaches[0:2]\n",
        "print(coaches_with_4_players)\n",
        "\n",
        "coaches_with_3_players=shuffled_coaches[2:]\n",
        "print(coaches_with_3_players)\n",
        "assignments=[]\n",
        "\n",
        "start = 0\n",
        "for coach in coaches_with_4:\n",
        "    for _ in range(4):\n",
        "        assignments.append((coach, shuffled_players[start]))\n",
        "        start += 1\n",
        "\n",
        "for coach in coaches_with_3:\n",
        "    for i in range(3):\n",
        "        assignments.append((coach, shuffled_players[start]))\n",
        "        start += 1\n",
        "\n",
        "index= [coach for coach,player in assignments]\n",
        "print (index)\n",
        "\n",
        "values=[player for coach,player in assignments]\n",
        "print(values)\n",
        "\n",
        "result=pd.Series(values,index=index)\n",
        "print(result)\n",
        "\n",
        "\n",
        "\n",
        "\n",
        "\n",
        "\n"
      ],
      "metadata": {
        "id": "CWwTWfYCa4k0",
        "outputId": "a6225aaa-5c4a-4103-8a73-83e830c8197a",
        "colab": {
          "base_uri": "https://localhost:8080/"
        }
      },
      "execution_count": 30,
      "outputs": [
        {
          "output_type": "stream",
          "name": "stdout",
          "text": [
            "0     Aaron\n",
            "1    Donald\n",
            "dtype: string\n",
            "2    Stephen\n",
            "3     Joshua\n",
            "4      Scott\n",
            "5      Peter\n",
            "dtype: string\n",
            "['Aaron', 'Aaron', 'Aaron', 'Aaron', 'Donald', 'Donald', 'Donald', 'Donald', 'Stephen', 'Stephen', 'Stephen', 'Joshua', 'Joshua', 'Joshua', 'Scott', 'Scott', 'Scott', 'Peter', 'Peter', 'Peter']\n",
            "['Asher', 'Scarlett', 'Oliver', 'Connor', 'James', 'Hannah', 'Layla', 'Emily', 'William', 'Ryan', 'Madison', 'Elizabeth', 'Joshua', 'Wyatt', 'Ethan', 'Leo', 'Isaiah', 'Julian', 'Mia', 'Isabella']\n",
            "Aaron          Asher\n",
            "Aaron       Scarlett\n",
            "Aaron         Oliver\n",
            "Aaron         Connor\n",
            "Donald         James\n",
            "Donald        Hannah\n",
            "Donald         Layla\n",
            "Donald         Emily\n",
            "Stephen      William\n",
            "Stephen         Ryan\n",
            "Stephen      Madison\n",
            "Joshua     Elizabeth\n",
            "Joshua        Joshua\n",
            "Joshua         Wyatt\n",
            "Scott          Ethan\n",
            "Scott            Leo\n",
            "Scott         Isaiah\n",
            "Peter         Julian\n",
            "Peter            Mia\n",
            "Peter       Isabella\n",
            "dtype: object\n"
          ]
        }
      ]
    },
    {
      "cell_type": "markdown",
      "source": [
        "## [See our solution!](https://www.practiceprobs.com/problemsets/python-pandas/series/fair-teams/solution/)"
      ],
      "metadata": {
        "id": "bF3kvEc4a4It"
      }
    }
  ]
}