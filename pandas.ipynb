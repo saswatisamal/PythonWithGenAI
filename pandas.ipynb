{
  "nbformat": 4,
  "nbformat_minor": 0,
  "metadata": {
    "colab": {
      "provenance": [],
      "authorship_tag": "ABX9TyPH6rP1EGwsU4+F9ChzRQzj",
      "include_colab_link": true
    },
    "kernelspec": {
      "name": "python3",
      "display_name": "Python 3"
    },
    "language_info": {
      "name": "python"
    }
  },
  "cells": [
    {
      "cell_type": "markdown",
      "metadata": {
        "id": "view-in-github",
        "colab_type": "text"
      },
      "source": [
        "<a href=\"https://colab.research.google.com/github/saswatisamal/PythonWithGenAI/blob/main/pandas.ipynb\" target=\"_parent\"><img src=\"https://colab.research.google.com/assets/colab-badge.svg\" alt=\"Open In Colab\"/></a>"
      ]
    },
    {
      "cell_type": "code",
      "execution_count": 3,
      "metadata": {
        "colab": {
          "base_uri": "https://localhost:8080/"
        },
        "id": "X1NIxtxV_Te0",
        "outputId": "5fdd9c8b-d8d1-403e-9298-0fb29cdf663f"
      },
      "outputs": [
        {
          "output_type": "stream",
          "name": "stdout",
          "text": [
            "Ram_Age      25\n",
            "Sam_Age      30\n",
            "Happy_Age    56\n",
            "Sunil_Age    78\n",
            "dtype: int64\n"
          ]
        }
      ],
      "source": [
        "#creating series\n",
        "import pandas as pd\n",
        "data=[25,30,56,78]\n",
        "#Want to change the index as well\n",
        "index=['Ram_Age','Sam_Age','Happy_Age','Sunil_Age']\n",
        "seriesData=pd.Series(data,index=index)\n",
        "print(seriesData)\n",
        "\n"
      ]
    },
    {
      "cell_type": "code",
      "source": [
        "#Creating dataframes\n",
        "#Difference between array and dataframes is dataframes hold heterogeneous data but array hold homogeneous data\n",
        "#Why can't we use python list but use the dataframes -> various mean,median,sd can be done using lib on dataframe which is not available in list\n",
        "dataframe=pd.DataFrame([['swati','32','IT'],['nisha',29,'Fashion'],['arjun',30,'Doctor']],columns=('name','age','profession'),index=('r0','r1','r2'))\n",
        "print(dataframe)\n"
      ],
      "metadata": {
        "colab": {
          "base_uri": "https://localhost:8080/"
        },
        "id": "oeDnpEc3CYf_",
        "outputId": "42479d88-089e-4a24-a99f-cabbce9b705b"
      },
      "execution_count": 8,
      "outputs": [
        {
          "output_type": "stream",
          "name": "stdout",
          "text": [
            "     name age profession\n",
            "r0  swati  32         IT\n",
            "r1  nisha  29    Fashion\n",
            "r2  arjun  30     Doctor\n"
          ]
        }
      ]
    }
  ]
}