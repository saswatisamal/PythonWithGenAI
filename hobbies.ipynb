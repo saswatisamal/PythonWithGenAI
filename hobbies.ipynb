{
  "nbformat": 4,
  "nbformat_minor": 0,
  "metadata": {
    "colab": {
      "provenance": [],
      "include_colab_link": true
    },
    "kernelspec": {
      "name": "python3",
      "display_name": "Python 3"
    },
    "language_info": {
      "name": "python"
    }
  },
  "cells": [
    {
      "cell_type": "markdown",
      "metadata": {
        "id": "view-in-github",
        "colab_type": "text"
      },
      "source": [
        "<a href=\"https://colab.research.google.com/github/saswatisamal/PythonWithGenAI/blob/main/hobbies.ipynb\" target=\"_parent\"><img src=\"https://colab.research.google.com/assets/colab-badge.svg\" alt=\"Open In Colab\"/></a>"
      ]
    },
    {
      "cell_type": "markdown",
      "source": [
        "[![PracticeProbs](https://d33wubrfki0l68.cloudfront.net/b6800cc830e3fd5a3a4c3d9cfb1137e6a4c15c77/ec467/assets/images/transparent-1.png)](https://www.practiceprobs.com/)"
      ],
      "metadata": {
        "id": "t1VEtnSjbu-d"
      }
    },
    {
      "cell_type": "markdown",
      "source": [
        "# [Hobbies](https://www.practiceprobs.com/problemsets/python-pandas/dataframe/hobbies/)\n",
        "\n",
        "You polled five heterosexual couples on their hobbies."
      ],
      "metadata": {
        "id": "M6yShpelZy-I"
      }
    },
    {
      "cell_type": "code",
      "source": [
        "import numpy as np\n",
        "import pandas as pd\n",
        "\n",
        "couples = pd.DataFrame({\n",
        "    'man': [\n",
        "        ['fishing', 'biking', 'reading'],\n",
        "        ['hunting', 'mudding', 'fishing'],\n",
        "        ['reading', 'movies', 'running'],\n",
        "        ['running', 'reading', 'biking', 'mudding'],\n",
        "        ['movies', 'reading', 'yodeling']\n",
        "    ],\n",
        "    'woman': [\n",
        "        ['biking', 'reading', 'movies'],\n",
        "        ['fishing', 'drinking'],\n",
        "        ['knitting', 'reading'],\n",
        "        ['running', 'biking', 'fishing', 'movies'],\n",
        "        ['movies']\n",
        "    ]\n",
        "})\n",
        "\n",
        "#print(couples)\n",
        "#                                    man                               woman\n",
        "# 0           [fishing, biking, reading]           [biking, reading, movies]\n",
        "# 1          [hunting, mudding, fishing]                 [fishing, drinking]\n",
        "# 2           [reading, movies, running]                 [knitting, reading]\n",
        "# 3  [running, reading, biking, mudding]  [running, biking, fishing, movies]\n",
        "# 4          [movies, reading, yodeling]                            [movies]\n",
        "\n",
        "\n",
        "\n",
        "# Your brilliant solution here!\n",
        "couples['shared_hobbies'] = couples.apply(\n",
        "    lambda x: set(x['man']) & set(x['woman']),\n",
        "    axis=1)\n",
        "print(couples['shared_hobbies'])\n",
        "\n",
        "\n",
        "#Difference in hobbies\n",
        "couples['different_hobbies'] = couples.apply(\n",
        "    lambda x: set(x['man']) - set(x['woman']),\n",
        "    axis=1)\n",
        "print(couples['different_hobbies'])"
      ],
      "metadata": {
        "id": "ZlHN2R3QaPX3",
        "outputId": "6d0d9c7e-204a-4ad3-c4f1-ac064be21379",
        "colab": {
          "base_uri": "https://localhost:8080/"
        }
      },
      "execution_count": 10,
      "outputs": [
        {
          "output_type": "stream",
          "name": "stdout",
          "text": [
            "0    {reading, biking}\n",
            "1            {fishing}\n",
            "2            {reading}\n",
            "3    {running, biking}\n",
            "4             {movies}\n",
            "Name: shared_hobbies, dtype: object\n",
            "0              {fishing}\n",
            "1     {mudding, hunting}\n",
            "2      {movies, running}\n",
            "3     {reading, mudding}\n",
            "4    {yodeling, reading}\n",
            "Name: different_hobbies, dtype: object\n"
          ]
        }
      ]
    },
    {
      "cell_type": "code",
      "source": [],
      "metadata": {
        "id": "ArQz7zsi0T8Y"
      },
      "execution_count": null,
      "outputs": []
    },
    {
      "cell_type": "markdown",
      "source": [
        "For each couple, determine what hobbies each man has that his wife doesn’t and what hobbies each woman has that her husband doesn’t."
      ],
      "metadata": {
        "id": "b6_u7yFwIsLo"
      }
    },
    {
      "cell_type": "markdown",
      "source": [
        "---"
      ],
      "metadata": {
        "id": "h7D8d-J5cela"
      }
    },
    {
      "cell_type": "code",
      "source": [],
      "metadata": {
        "id": "CWwTWfYCa4k0",
        "outputId": "6e8173eb-b7e2-42a9-c723-3724e3d9c5db",
        "colab": {
          "base_uri": "https://localhost:8080/",
          "height": 180
        }
      },
      "execution_count": 2,
      "outputs": [
        {
          "output_type": "error",
          "ename": "NameError",
          "evalue": "name 'couples' is not defined",
          "traceback": [
            "\u001b[0;31m---------------------------------------------------------------------------\u001b[0m",
            "\u001b[0;31mNameError\u001b[0m                                 Traceback (most recent call last)",
            "\u001b[0;32m/tmp/ipython-input-1784779051.py\u001b[0m in \u001b[0;36m<cell line: 0>\u001b[0;34m()\u001b[0m\n\u001b[1;32m      1\u001b[0m \u001b[0;31m# Your brilliant solution here!\u001b[0m\u001b[0;34m\u001b[0m\u001b[0;34m\u001b[0m\u001b[0m\n\u001b[0;32m----> 2\u001b[0;31m \u001b[0mcouples\u001b[0m\u001b[0;34m.\u001b[0m\u001b[0mapply\u001b[0m\u001b[0;34m(\u001b[0m\u001b[0;32mlambda\u001b[0m \u001b[0mrow\u001b[0m\u001b[0;34m:\u001b[0m\u001b[0mset\u001b[0m\u001b[0;34m(\u001b[0m\u001b[0mrow\u001b[0m\u001b[0;34m[\u001b[0m\u001b[0;34m'man'\u001b[0m\u001b[0;34m]\u001b[0m\u001b[0;34m)\u001b[0m \u001b[0;34m&\u001b[0m \u001b[0mset\u001b[0m\u001b[0;34m(\u001b[0m\u001b[0mrow\u001b[0m\u001b[0;34m[\u001b[0m\u001b[0;34m'woman'\u001b[0m\u001b[0;34m]\u001b[0m\u001b[0;34m)\u001b[0m\u001b[0;34m)\u001b[0m\u001b[0;34m\u001b[0m\u001b[0;34m\u001b[0m\u001b[0m\n\u001b[0m\u001b[1;32m      3\u001b[0m \u001b[0mprint\u001b[0m\u001b[0;34m(\u001b[0m\u001b[0mcouples\u001b[0m\u001b[0;34m)\u001b[0m\u001b[0;34m\u001b[0m\u001b[0;34m\u001b[0m\u001b[0m\n",
            "\u001b[0;31mNameError\u001b[0m: name 'couples' is not defined"
          ]
        }
      ]
    },
    {
      "cell_type": "markdown",
      "source": [
        "## [See our solution!](https://www.practiceprobs.com/problemsets/python-pandas/dataframe/hobbies/solution/)"
      ],
      "metadata": {
        "id": "bF3kvEc4a4It"
      }
    }
  ]
}