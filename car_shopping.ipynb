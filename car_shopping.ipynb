{
  "nbformat": 4,
  "nbformat_minor": 0,
  "metadata": {
    "colab": {
      "provenance": [],
      "include_colab_link": true
    },
    "kernelspec": {
      "name": "python3",
      "display_name": "Python 3"
    },
    "language_info": {
      "name": "python"
    }
  },
  "cells": [
    {
      "cell_type": "markdown",
      "metadata": {
        "id": "view-in-github",
        "colab_type": "text"
      },
      "source": [
        "<a href=\"https://colab.research.google.com/github/saswatisamal/PythonWithGenAI/blob/main/car_shopping.ipynb\" target=\"_parent\"><img src=\"https://colab.research.google.com/assets/colab-badge.svg\" alt=\"Open In Colab\"/></a>"
      ]
    },
    {
      "cell_type": "markdown",
      "source": [
        "[![PracticeProbs](https://d33wubrfki0l68.cloudfront.net/b6800cc830e3fd5a3a4c3d9cfb1137e6a4c15c77/ec467/assets/images/transparent-1.png)](https://www.practiceprobs.com/)"
      ],
      "metadata": {
        "id": "t1VEtnSjbu-d"
      }
    },
    {
      "cell_type": "markdown",
      "source": [
        "# [Car Shopping](https://www.practiceprobs.com/problemsets/python-pandas/series/car-shopping/)\n",
        "\n",
        "After accidentally leaving an ice chest of fish and shrimp in your car for a week while you were on vacation, you’re now in the market for a new vehicle 🚗. Your insurance didn’t cover the loss, so you want to make sure you get a good deal on your new car.\n",
        "\n",
        "Given a Series of car `asking_prices` and another Series of car `fair_prices`, determine which cars for sale are a good deal. In other words, identify cars whose asking price is less than their fair price."
      ],
      "metadata": {
        "id": "M6yShpelZy-I"
      }
    },
    {
      "cell_type": "code",
      "source": [
        "import numpy as np\n",
        "import pandas as pd\n",
        "\n",
        "asking_prices = pd.Series([5000, 7600, 9000, 8500, 7000], index=['civic', 'civic', 'camry', 'mustang', 'mustang'])\n",
        "fair_prices = pd.Series([5500, 7500, 7500], index=['civic', 'mustang', 'camry'])\n",
        "\n",
        "print(asking_prices)\n",
        "# civic      5000\n",
        "# civic      7600\n",
        "# camry      9000\n",
        "# mustang    8500\n",
        "# mustang    7000\n",
        "# dtype: int64\n",
        "\n",
        "print(fair_prices)\n",
        "# civic      5500\n",
        "# mustang    7500\n",
        "# camry      7500\n",
        "# dtype: int64"
      ],
      "metadata": {
        "id": "ZlHN2R3QaPX3",
        "outputId": "36cb7113-9700-456c-9990-ee12e0ecf3e5",
        "colab": {
          "base_uri": "https://localhost:8080/"
        }
      },
      "execution_count": 1,
      "outputs": [
        {
          "output_type": "stream",
          "name": "stdout",
          "text": [
            "Index(['civic', 'civic', 'camry', 'mustang', 'mustang'], dtype='object')\n",
            "civic      5000\n",
            "civic      7600\n",
            "camry      9000\n",
            "mustang    8500\n",
            "mustang    7000\n",
            "dtype: int64\n",
            "civic      5500\n",
            "mustang    7500\n",
            "camry      7500\n",
            "dtype: int64\n"
          ]
        }
      ]
    },
    {
      "cell_type": "markdown",
      "source": [
        "The result should be a **list of integer indices** corresponding to the good deals in `asking_prices`."
      ],
      "metadata": {
        "id": "b6_u7yFwIsLo"
      }
    },
    {
      "cell_type": "markdown",
      "source": [
        "---"
      ],
      "metadata": {
        "id": "h7D8d-J5cela"
      }
    },
    {
      "cell_type": "code",
      "source": [
        "# Your brilliant solution here!\n",
        "#np.where(condition) where condition is numpy array or pandas series.\n",
        "#loc works on labels and iloc works on index\n",
        "ask_price_index=asking_prices.index\n",
        "result_ask_price=fair_prices[ask_price_index]\n",
        "result_2=ask_price_index.map(fair_prices)\n",
        "goodDeals=asking_prices<=result_2\n",
        "good_deals_indices = np.where(goodDeals)[0].tolist()\n",
        "print(good_deals_indices)\n"
      ],
      "metadata": {
        "id": "CWwTWfYCa4k0",
        "outputId": "9d16b8f7-0023-45de-d949-86919cc4f7d6",
        "colab": {
          "base_uri": "https://localhost:8080/"
        }
      },
      "execution_count": 28,
      "outputs": [
        {
          "output_type": "stream",
          "name": "stdout",
          "text": [
            "[0, 4]\n"
          ]
        }
      ]
    },
    {
      "cell_type": "markdown",
      "source": [
        "## [See our solution!](https://www.practiceprobs.com/problemsets/python-pandas/series/car-shopping/solution/)"
      ],
      "metadata": {
        "id": "bF3kvEc4a4It"
      }
    }
  ]
}